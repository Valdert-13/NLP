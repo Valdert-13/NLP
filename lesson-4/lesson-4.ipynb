{
 "cells": [
  {
   "cell_type": "code",
   "execution_count": 11,
   "metadata": {},
   "outputs": [],
   "source": [
    "import pandas as pd\n",
    "import numpy as np\n",
    "from sklearn.feature_extraction.text import TfidfVectorizer, CountVectorizer\n",
    "from sklearn.linear_model import LogisticRegression\n",
    "from sklearn.model_selection import train_test_split\n",
    "from sklearn.metrics import f1_score\n",
    "import pickle\n",
    "from tqdm import tqdm\n",
    "\n",
    "import warnings \n",
    "warnings.filterwarnings(\"ignore\", category=Warning)"
   ]
  },
  {
   "cell_type": "code",
   "execution_count": 2,
   "metadata": {},
   "outputs": [],
   "source": [
    "with open('../data/tweet_data.pkl', 'rb') as f:\n",
    "    df = pickle.load(f)"
   ]
  },
  {
   "cell_type": "code",
   "execution_count": 3,
   "metadata": {},
   "outputs": [
    {
     "data": {
      "text/plain": [
       "(49159, 8)"
      ]
     },
     "execution_count": 3,
     "metadata": {},
     "output_type": "execute_result"
    }
   ],
   "source": [
    "df.shape"
   ]
  },
  {
   "cell_type": "code",
   "execution_count": 4,
   "metadata": {},
   "outputs": [
    {
     "data": {
      "text/plain": [
       "((31962, 8), (17197, 8))"
      ]
     },
     "execution_count": 4,
     "metadata": {},
     "output_type": "execute_result"
    }
   ],
   "source": [
    "train = df.loc[df.label.isna() == False]\n",
    "test = df.loc[df.label.isna() == True]\n",
    "train.shape, test.shape"
   ]
  },
  {
   "cell_type": "code",
   "execution_count": 5,
   "metadata": {},
   "outputs": [],
   "source": [
    "def get_embedding(data: pd.Series,\n",
    "                  vectorizer: callable,\n",
    "                  parameters: dict = {'max_df': 0.9,\n",
    "                                      'max_features': 1000,\n",
    "                                      'stop_words': 'english'}) -> pd.DataFrame:\n",
    "    \n",
    "    \"\"\"\n",
    "    Создание Bag-of-Words эмбеддингов.\n",
    "\n",
    "    Parameters\n",
    "    ----------\n",
    "    data: pd.Series\n",
    "        Последовательность списков токенов. \n",
    "        Данные для получения эмбеддинга\n",
    "\n",
    "    vectorizer: callable\n",
    "        Vectorizer для получения Bag-of-words.\n",
    "        Ожидается CountVectorizer или TfIdfVectorizer.\n",
    "    \n",
    "    parameters: dict\n",
    "        Параметры модели.\n",
    "        Опциональный параметр, по умолчанию заданы базовые настройки.\n",
    "\n",
    "\n",
    "    Returns\n",
    "    -------\n",
    "    pd.DataFrame\n",
    "        Разреженная матрица токенизиорованных эмбеддингов для использования в моделях.\n",
    "\n",
    "    \"\"\"\n",
    "    \n",
    "    model = vectorizer(**parameters)\n",
    "    values = model.fit_transform(data.astype('str'))\n",
    "    feature_names = model.get_feature_names()\n",
    "    \n",
    "    return pd.DataFrame(values.toarray(), columns = feature_names)\n",
    "\n",
    "\n",
    "def eval_model(model: callable,\n",
    "               X_train: pd.DataFrame,\n",
    "               y_train: pd.Series,\n",
    "               X_test: pd.DataFrame,\n",
    "               y_test: pd.Series,\n",
    "               eval_metric: callable = f1_score) -> float:\n",
    "    \n",
    "    \"\"\"\n",
    "    Оценка качеcтва модели.\n",
    "\n",
    "    Parameters\n",
    "    ----------\n",
    "    model: callabe\n",
    "        Инициализированная модель для обучения.\n",
    "    \n",
    "    X_train, X_test: pandas.DataFrame\n",
    "    \n",
    "    Разреженные матрицы токенизированных эмбеддингов.\n",
    "    Получение из сплитов в функции get_embedding().\n",
    "    \n",
    "    y_train, y_test:\n",
    "    \n",
    "    Размеченные сплиты меток классов.\n",
    "    \n",
    "    eval_metric: callable\n",
    "        Метрика качества.\n",
    "        Опциональный параметр, по умолчанию используется f1_score.\n",
    "\n",
    "    Returns\n",
    "    -------\n",
    "    score: float\n",
    "        Расчетное качество по заданной метрике\n",
    "    \"\"\"\n",
    "    \n",
    "    model.fit(X_train, y_train)\n",
    "    pred_prob = model.predict_proba(X_test)\n",
    "    y_pred = np.where(pred_prob[:,1]>0.3, 1,0)\n",
    "    score = f1_score(y_test, y_pred)\n",
    "    \n",
    "    return score\n",
    "\n",
    "def get_set_embeddings (X_train: pd.Series) -> pd.DataFrame:\n",
    "    \n",
    "    \"\"\"\n",
    "    Создание 4 комплектов эмбедингов.\n",
    "\n",
    "    Parameters\n",
    "    ----------\n",
    "    X_train: pd.Series\n",
    "        Последовательность списков токенов. \n",
    "        Данные для получения эмбеддинга    \n",
    "\n",
    "\n",
    "\n",
    "    Returns\n",
    "    -------\n",
    "    pd.DataFrame x 4\n",
    "        Stemmed Count Vectorized embedds\n",
    "        Lemmatized Count Vectorized embedds\n",
    "        Stemmed TfIdf embedds\n",
    "        Lemmatized TfIdf embedds\n",
    "\n",
    "    \"\"\"\n",
    "    X_train_stemmed_CV = get_embedding(data=X_train[X_train.columns[0]], vectorizer=CountVectorizer)\n",
    "    X_train_lemmatized_CV = get_embedding(data=X_train[X_train.columns[1]], vectorizer=CountVectorizer)\n",
    "    X_train_stemmed_tfidf = get_embedding(data=X_train[X_train.columns[0]], vectorizer=TfidfVectorizer)\n",
    "    X_train_lemmatized_tfidf = get_embedding(data=X_train[X_train.columns[1]], vectorizer=TfidfVectorizer)\n",
    "    \n",
    "    return X_train_stemmed_CV, X_train_lemmatized_CV, X_train_stemmed_tfidf, X_train_lemmatized_tfidf"
   ]
  },
  {
   "cell_type": "code",
   "execution_count": 6,
   "metadata": {},
   "outputs": [],
   "source": [
    "X = train[['tweet_stemmed', 'tweet_lemmatized']]\n",
    "y = train['label']"
   ]
  },
  {
   "cell_type": "code",
   "execution_count": 7,
   "metadata": {},
   "outputs": [],
   "source": [
    "X_train, X_test, y_train, y_test = train_test_split(\n",
    "    X, y,\n",
    "    test_size=0.3,\n",
    "    random_state=17,\n",
    "    shuffle=True,\n",
    "    stratify=y\n",
    ")"
   ]
  },
  {
   "cell_type": "code",
   "execution_count": 9,
   "metadata": {},
   "outputs": [],
   "source": [
    "X_train_stemmed_CV, X_train_lemmatized_CV,\\\n",
    "X_train_stemmed_tfidf, X_train_lemmatized_tfidf = get_set_embeddings (X_train)\n",
    "\n",
    "X_test_stemmed_CV, X_test_lemmatized_CV,\\\n",
    "X_test_stemmed_tfidf, X_test_lemmatized_tfidf = get_set_embeddings (X_test)"
   ]
  },
  {
   "cell_type": "code",
   "execution_count": 12,
   "metadata": {},
   "outputs": [
    {
     "name": "stdout",
     "output_type": "stream",
     "text": [
      "F1-score: Count Vectorizer Stemmed - 0.057\n",
      "F1-score: Count Vectorizer Lemmatized - 0.094\n",
      "F1-score: TfIdf Vectorizer Stemmed - 0.047\n",
      "F1-score: TfIdf Vectorizer Lemmatized - 0.093\n"
     ]
    }
   ],
   "source": [
    "clf = LogisticRegression()\n",
    "\n",
    "F1_CS = eval_model(clf, X_train_stemmed_CV, y_train, X_test_stemmed_CV, y_test)\n",
    "F1_CL = eval_model(clf, X_train_lemmatized_CV, y_train, X_test_lemmatized_CV, y_test)\n",
    "F1_TS = eval_model(clf, X_train_stemmed_tfidf, y_train, X_test_stemmed_tfidf, y_test)\n",
    "F1_TL = eval_model(clf, X_train_lemmatized_tfidf, y_train, X_test_lemmatized_tfidf, y_test)\n",
    "\n",
    "print(f\"F1-score: Count Vectorizer Stemmed - {round(F1_CS, 3)}\")\n",
    "print(f\"F1-score: Count Vectorizer Lemmatized - {round(F1_CL, 3)}\")\n",
    "print(f\"F1-score: TfIdf Vectorizer Stemmed - {round(F1_TS, 3)}\")\n",
    "print(f\"F1-score: TfIdf Vectorizer Lemmatized - {round(F1_TL, 3)}\")"
   ]
  },
  {
   "cell_type": "code",
   "execution_count": null,
   "metadata": {},
   "outputs": [],
   "source": []
  },
  {
   "cell_type": "code",
   "execution_count": null,
   "metadata": {},
   "outputs": [],
   "source": []
  }
 ],
 "metadata": {
  "kernelspec": {
   "display_name": "Python 3",
   "language": "python",
   "name": "python3"
  },
  "language_info": {
   "codemirror_mode": {
    "name": "ipython",
    "version": 3
   },
   "file_extension": ".py",
   "mimetype": "text/x-python",
   "name": "python",
   "nbconvert_exporter": "python",
   "pygments_lexer": "ipython3",
   "version": "3.7.7"
  }
 },
 "nbformat": 4,
 "nbformat_minor": 4
}
